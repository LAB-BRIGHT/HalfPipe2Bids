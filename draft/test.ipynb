{
 "cells": [
  {
   "cell_type": "code",
   "execution_count": 1,
   "id": "57d0fe16",
   "metadata": {},
   "outputs": [
    {
     "name": "stdout",
     "output_type": "stream",
     "text": [
      "3.142\n",
      "3.1415926536\n",
      "3.141592653589793\n",
      "3.14159265358979311599796346854418516159057617187500\n"
     ]
    }
   ],
   "source": [
    "# %% [markdown]\n",
    "# Affichage des 3 premières décimales de pi\n",
    "\n",
    "# %%\n",
    "from math import pi\n",
    "print(f\"{pi:.3f}\")\n",
    "\n",
    "# %% [markdown]\n",
    "# Affichage des 10 premières décimales de pi\n",
    "\n",
    "# %%\n",
    "print(f\"{pi:.10f}\")\n",
    "\n",
    "# %% [markdown]\n",
    "# Affichage des 15 premières décimales de pi\n",
    "\n",
    "# %%\n",
    "print(f\"{pi:.15f}\")\n",
    "\n",
    "# %% [markdown]\n",
    "# Affichage des 50 premières décimales de pi\n",
    "\n",
    "# %%\n",
    "print(f\"{pi:.50f}\")"
   ]
  }
 ],
 "metadata": {
  "kernelspec": {
   "display_name": "base",
   "language": "python",
   "name": "python3"
  },
  "language_info": {
   "codemirror_mode": {
    "name": "ipython",
    "version": 3
   },
   "file_extension": ".py",
   "mimetype": "text/x-python",
   "name": "python",
   "nbconvert_exporter": "python",
   "pygments_lexer": "ipython3",
   "version": "3.12.2"
  }
 },
 "nbformat": 4,
 "nbformat_minor": 5
}
